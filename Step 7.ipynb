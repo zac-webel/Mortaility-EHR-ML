{
 "cells": [
  {
   "cell_type": "markdown",
   "id": "99f4316f",
   "metadata": {},
   "source": [
    "# Final Step - Testing"
   ]
  },
  {
   "cell_type": "code",
   "execution_count": 1,
   "id": "4c6f878d",
   "metadata": {},
   "outputs": [
    {
     "name": "stderr",
     "output_type": "stream",
     "text": [
      "/Users/zac/opt/anaconda3/lib/python3.9/site-packages/xgboost/compat.py:36: FutureWarning: pandas.Int64Index is deprecated and will be removed from pandas in a future version. Use pandas.Index with the appropriate dtype instead.\n",
      "  from pandas import MultiIndex, Int64Index\n"
     ]
    }
   ],
   "source": [
    "# Package Import\n",
    "\n",
    "import pandas as pd\n",
    "import numpy as np\n",
    "from matplotlib import pyplot as plt\n",
    "\n",
    "from sklearn.feature_selection import SelectKBest\n",
    "from sklearn.feature_selection import chi2\n",
    "from sklearn.feature_selection import VarianceThreshold\n",
    "\n",
    "import xgboost as xgb\n",
    "from xgboost import XGBClassifier\n",
    "from xgboost import plot_importance\n",
    "\n",
    "from sklearn.linear_model import LogisticRegression\n",
    "from sklearn.ensemble import RandomForestClassifier\n",
    "from sklearn import svm\n",
    "\n",
    "from sklearn.model_selection import train_test_split\n",
    "\n",
    "\n",
    "from sklearn.metrics import roc_curve\n",
    "from sklearn.metrics import roc_auc_score\n",
    "\n",
    "\n",
    "from collections import Counter\n",
    "#from imblearn.over_sampling import SMOTE\n",
    "from numpy import where\n",
    "\n",
    "\n",
    "from numpy import mean\n",
    "from sklearn.datasets import make_classification\n",
    "from sklearn.model_selection import cross_val_score\n",
    "from sklearn.model_selection import RepeatedStratifiedKFold"
   ]
  },
  {
   "cell_type": "code",
   "execution_count": 23,
   "id": "3b9f85d8",
   "metadata": {},
   "outputs": [],
   "source": [
    "train_data = pd.read_csv('input/step_4_train_demographics.csv')"
   ]
  },
  {
   "cell_type": "code",
   "execution_count": 24,
   "id": "4c92c7e0",
   "metadata": {},
   "outputs": [],
   "source": [
    "train_outcome = train_data['outcome']\n",
    "train_data = train_data.iloc[:,2:]"
   ]
  },
  {
   "cell_type": "code",
   "execution_count": 25,
   "id": "08109523",
   "metadata": {},
   "outputs": [],
   "source": [
    "train_data = train_data[['age_last_visit','age_Charlson_index','313217.0','439926.0','75617.0','4229909.0','317576.0','444369.0']]          \n",
    "\n"
   ]
  },
  {
   "cell_type": "code",
   "execution_count": 26,
   "id": "da35e4d4",
   "metadata": {},
   "outputs": [
    {
     "name": "stdout",
     "output_type": "stream",
     "text": [
      "[18:44:54] WARNING: /var/folders/sy/f16zz6x50xz3113nwtb9bvq00000gp/T/abs_44tbtwf8c1/croots/recipe/xgboost-split_1659548960882/work/src/learner.cc:1115: Starting in XGBoost 1.3.0, the default evaluation metric used with the objective 'binary:logistic' was changed from 'error' to 'logloss'. Explicitly set eval_metric if you'd like to restore the old behavior.\n"
     ]
    },
    {
     "name": "stderr",
     "output_type": "stream",
     "text": [
      "/Users/zac/opt/anaconda3/lib/python3.9/site-packages/xgboost/sklearn.py:1224: UserWarning: The use of label encoder in XGBClassifier is deprecated and will be removed in a future release. To remove this warning, do the following: 1) Pass option use_label_encoder=False when constructing XGBClassifier object; and 2) Encode your labels (y) as integers starting with 0, i.e. 0, 1, 2, ..., [num_class - 1].\n",
      "  warnings.warn(label_encoder_deprecation_msg, UserWarning)\n",
      "/Users/zac/opt/anaconda3/lib/python3.9/site-packages/xgboost/data.py:250: FutureWarning: pandas.Int64Index is deprecated and will be removed from pandas in a future version. Use pandas.Index with the appropriate dtype instead.\n",
      "  elif isinstance(data.columns, (pd.Int64Index, pd.RangeIndex)):\n"
     ]
    },
    {
     "data": {
      "text/plain": [
       "XGBClassifier(base_score=0.5, booster='gbtree', colsample_bylevel=1,\n",
       "              colsample_bynode=1, colsample_bytree=1, enable_categorical=False,\n",
       "              gamma=0, gpu_id=-1, importance_type=None,\n",
       "              interaction_constraints='', learning_rate=0.300000012,\n",
       "              max_delta_step=0, max_depth=5, min_child_weight=1, missing=nan,\n",
       "              monotone_constraints='()', n_estimators=50, n_jobs=8,\n",
       "              num_parallel_tree=1, predictor='auto', random_state=0,\n",
       "              reg_alpha=0, reg_lambda=1, scale_pos_weight=1, subsample=1,\n",
       "              tree_method='exact', validate_parameters=1, verbosity=None)"
      ]
     },
     "execution_count": 26,
     "metadata": {},
     "output_type": "execute_result"
    }
   ],
   "source": [
    "model = XGBClassifier(n_estimators=50,max_depth=5)\n",
    "\n",
    "model.fit(train_data, train_outcome)"
   ]
  },
  {
   "cell_type": "code",
   "execution_count": 27,
   "id": "4c4ccfbd",
   "metadata": {},
   "outputs": [],
   "source": [
    "test_data = pd.read_csv('output/test_set.csv')\n",
    "test_outcome = test_data['outcome']\n",
    "test_data = test_data.iloc[:,2:]"
   ]
  },
  {
   "cell_type": "code",
   "execution_count": 28,
   "id": "4a33bd2e",
   "metadata": {},
   "outputs": [
    {
     "name": "stdout",
     "output_type": "stream",
     "text": [
      "Accuracy:  0.9954360342648504\n",
      "Roc Auc:  0.484786436318848\n"
     ]
    }
   ],
   "source": [
    "preds = list(model.predict(test_data))\n",
    "w=0\n",
    "for i in range(len(preds)):\n",
    "    if(preds[i]==test_outcome[i]):\n",
    "        w=w+1\n",
    "print(\"Accuracy: \",w/len(preds))\n",
    "lr_probs = model.predict_proba(test_data)\n",
    "# keep probabilities for the positive outcome only\n",
    "lr_probs = lr_probs[:, 1]\n",
    "\n",
    "print(\"Roc Auc: \",roc_auc_score(test_outcome, lr_probs))\n"
   ]
  },
  {
   "cell_type": "markdown",
   "id": "65d95d6e",
   "metadata": {},
   "source": [
    "# Conclusion\n",
    "\n",
    "\n",
    "We struggled obtaining any success on this prediction. I think with better computing power \n",
    "we could have obtained a better roc auc score, but the models took way to long to run and \n",
    "we had to store a lot of data. "
   ]
  }
 ],
 "metadata": {
  "kernelspec": {
   "display_name": "Python 3 (ipykernel)",
   "language": "python",
   "name": "python3"
  },
  "language_info": {
   "codemirror_mode": {
    "name": "ipython",
    "version": 3
   },
   "file_extension": ".py",
   "mimetype": "text/x-python",
   "name": "python",
   "nbconvert_exporter": "python",
   "pygments_lexer": "ipython3",
   "version": "3.9.12"
  }
 },
 "nbformat": 4,
 "nbformat_minor": 5
}

{
 "cells": [
  {
   "cell_type": "markdown",
   "id": "e0082dbe",
   "metadata": {},
   "source": [
    "End to end machine learning workflow to predict mortality within 180 days of last visit\n",
    "\n",
    "This is step 5\n",
    "\n",
    "We will train our model"
   ]
  },
  {
   "cell_type": "markdown",
   "id": "4546cb6e",
   "metadata": {},
   "source": [
    "# Import Packages and Data"
   ]
  },
  {
   "cell_type": "code",
   "execution_count": 1,
   "id": "4e0aad50",
   "metadata": {},
   "outputs": [
    {
     "name": "stderr",
     "output_type": "stream",
     "text": [
      "/Users/zac/opt/anaconda3/lib/python3.9/site-packages/xgboost/compat.py:36: FutureWarning: pandas.Int64Index is deprecated and will be removed from pandas in a future version. Use pandas.Index with the appropriate dtype instead.\n",
      "  from pandas import MultiIndex, Int64Index\n"
     ]
    }
   ],
   "source": [
    "# Package Import\n",
    "\n",
    "import pandas as pd\n",
    "import numpy as np\n",
    "from matplotlib import pyplot as plt\n",
    "\n",
    "from sklearn.feature_selection import SelectKBest\n",
    "from sklearn.feature_selection import chi2\n",
    "from sklearn.feature_selection import VarianceThreshold\n",
    "\n",
    "import xgboost as xgb\n",
    "from xgboost import XGBClassifier\n",
    "from xgboost import plot_importance\n",
    "\n",
    "from sklearn.linear_model import LogisticRegression\n",
    "from sklearn.ensemble import RandomForestClassifier\n",
    "from sklearn import svm\n",
    "\n",
    "from sklearn.model_selection import train_test_split\n",
    "\n",
    "\n",
    "from sklearn.metrics import roc_curve\n",
    "from sklearn.metrics import roc_auc_score\n",
    "\n",
    "\n",
    "from collections import Counter\n",
    "#from imblearn.over_sampling import SMOTE\n",
    "from numpy import where\n",
    "\n",
    "\n",
    "from numpy import mean\n",
    "from sklearn.datasets import make_classification\n",
    "from sklearn.model_selection import cross_val_score\n",
    "from sklearn.model_selection import RepeatedStratifiedKFold"
   ]
  },
  {
   "cell_type": "code",
   "execution_count": 2,
   "id": "94fac826",
   "metadata": {},
   "outputs": [],
   "source": [
    "data = pd.read_csv('output/step_4_train_demographics.csv')"
   ]
  },
  {
   "cell_type": "code",
   "execution_count": 3,
   "id": "eabd8b18",
   "metadata": {
    "scrolled": true
   },
   "outputs": [
    {
     "data": {
      "text/html": [
       "<div>\n",
       "<style scoped>\n",
       "    .dataframe tbody tr th:only-of-type {\n",
       "        vertical-align: middle;\n",
       "    }\n",
       "\n",
       "    .dataframe tbody tr th {\n",
       "        vertical-align: top;\n",
       "    }\n",
       "\n",
       "    .dataframe thead th {\n",
       "        text-align: right;\n",
       "    }\n",
       "</style>\n",
       "<table border=\"1\" class=\"dataframe\">\n",
       "  <thead>\n",
       "    <tr style=\"text-align: right;\">\n",
       "      <th></th>\n",
       "      <th>person_id</th>\n",
       "      <th>outcome</th>\n",
       "      <th>age_Charlson_index</th>\n",
       "      <th>gender_source_value</th>\n",
       "      <th>ethnicity_source_value</th>\n",
       "      <th>age_last_visit</th>\n",
       "      <th>0.0</th>\n",
       "      <th>196620.0</th>\n",
       "      <th>196628.0</th>\n",
       "      <th>196645.0</th>\n",
       "      <th>...</th>\n",
       "      <th>196461.0</th>\n",
       "      <th>196464.0</th>\n",
       "      <th>196468.0</th>\n",
       "      <th>196469.0</th>\n",
       "      <th>196471.0</th>\n",
       "      <th>196476.0</th>\n",
       "      <th>40304526.0</th>\n",
       "      <th>196523.0</th>\n",
       "      <th>4161462.0</th>\n",
       "      <th>4063171.0</th>\n",
       "    </tr>\n",
       "  </thead>\n",
       "  <tbody>\n",
       "    <tr>\n",
       "      <th>0</th>\n",
       "      <td>138730</td>\n",
       "      <td>1</td>\n",
       "      <td>3</td>\n",
       "      <td>1</td>\n",
       "      <td>1</td>\n",
       "      <td>28.0</td>\n",
       "      <td>0</td>\n",
       "      <td>0</td>\n",
       "      <td>0</td>\n",
       "      <td>0</td>\n",
       "      <td>...</td>\n",
       "      <td>0</td>\n",
       "      <td>0</td>\n",
       "      <td>0</td>\n",
       "      <td>0</td>\n",
       "      <td>0</td>\n",
       "      <td>0</td>\n",
       "      <td>0</td>\n",
       "      <td>0</td>\n",
       "      <td>1</td>\n",
       "      <td>0</td>\n",
       "    </tr>\n",
       "    <tr>\n",
       "      <th>1</th>\n",
       "      <td>127727</td>\n",
       "      <td>1</td>\n",
       "      <td>6</td>\n",
       "      <td>1</td>\n",
       "      <td>2</td>\n",
       "      <td>65.0</td>\n",
       "      <td>0</td>\n",
       "      <td>0</td>\n",
       "      <td>0</td>\n",
       "      <td>0</td>\n",
       "      <td>...</td>\n",
       "      <td>0</td>\n",
       "      <td>0</td>\n",
       "      <td>0</td>\n",
       "      <td>0</td>\n",
       "      <td>0</td>\n",
       "      <td>0</td>\n",
       "      <td>0</td>\n",
       "      <td>0</td>\n",
       "      <td>0</td>\n",
       "      <td>0</td>\n",
       "    </tr>\n",
       "    <tr>\n",
       "      <th>2</th>\n",
       "      <td>46210</td>\n",
       "      <td>1</td>\n",
       "      <td>2</td>\n",
       "      <td>1</td>\n",
       "      <td>3</td>\n",
       "      <td>69.0</td>\n",
       "      <td>0</td>\n",
       "      <td>0</td>\n",
       "      <td>0</td>\n",
       "      <td>0</td>\n",
       "      <td>...</td>\n",
       "      <td>0</td>\n",
       "      <td>0</td>\n",
       "      <td>0</td>\n",
       "      <td>0</td>\n",
       "      <td>0</td>\n",
       "      <td>0</td>\n",
       "      <td>0</td>\n",
       "      <td>0</td>\n",
       "      <td>0</td>\n",
       "      <td>0</td>\n",
       "    </tr>\n",
       "    <tr>\n",
       "      <th>3</th>\n",
       "      <td>10249</td>\n",
       "      <td>1</td>\n",
       "      <td>4</td>\n",
       "      <td>2</td>\n",
       "      <td>2</td>\n",
       "      <td>80.0</td>\n",
       "      <td>0</td>\n",
       "      <td>0</td>\n",
       "      <td>0</td>\n",
       "      <td>0</td>\n",
       "      <td>...</td>\n",
       "      <td>0</td>\n",
       "      <td>0</td>\n",
       "      <td>0</td>\n",
       "      <td>0</td>\n",
       "      <td>0</td>\n",
       "      <td>0</td>\n",
       "      <td>0</td>\n",
       "      <td>0</td>\n",
       "      <td>0</td>\n",
       "      <td>0</td>\n",
       "    </tr>\n",
       "    <tr>\n",
       "      <th>4</th>\n",
       "      <td>78014</td>\n",
       "      <td>1</td>\n",
       "      <td>3</td>\n",
       "      <td>1</td>\n",
       "      <td>1</td>\n",
       "      <td>79.0</td>\n",
       "      <td>0</td>\n",
       "      <td>0</td>\n",
       "      <td>0</td>\n",
       "      <td>0</td>\n",
       "      <td>...</td>\n",
       "      <td>0</td>\n",
       "      <td>0</td>\n",
       "      <td>0</td>\n",
       "      <td>0</td>\n",
       "      <td>0</td>\n",
       "      <td>0</td>\n",
       "      <td>0</td>\n",
       "      <td>0</td>\n",
       "      <td>0</td>\n",
       "      <td>0</td>\n",
       "    </tr>\n",
       "  </tbody>\n",
       "</table>\n",
       "<p>5 rows × 5314 columns</p>\n",
       "</div>"
      ],
      "text/plain": [
       "   person_id  outcome  age_Charlson_index  gender_source_value  \\\n",
       "0     138730        1                   3                    1   \n",
       "1     127727        1                   6                    1   \n",
       "2      46210        1                   2                    1   \n",
       "3      10249        1                   4                    2   \n",
       "4      78014        1                   3                    1   \n",
       "\n",
       "   ethnicity_source_value  age_last_visit  0.0  196620.0  196628.0  196645.0  \\\n",
       "0                       1            28.0    0         0         0         0   \n",
       "1                       2            65.0    0         0         0         0   \n",
       "2                       3            69.0    0         0         0         0   \n",
       "3                       2            80.0    0         0         0         0   \n",
       "4                       1            79.0    0         0         0         0   \n",
       "\n",
       "   ...  196461.0  196464.0  196468.0  196469.0  196471.0  196476.0  \\\n",
       "0  ...         0         0         0         0         0         0   \n",
       "1  ...         0         0         0         0         0         0   \n",
       "2  ...         0         0         0         0         0         0   \n",
       "3  ...         0         0         0         0         0         0   \n",
       "4  ...         0         0         0         0         0         0   \n",
       "\n",
       "   40304526.0  196523.0  4161462.0  4063171.0  \n",
       "0           0         0          1          0  \n",
       "1           0         0          0          0  \n",
       "2           0         0          0          0  \n",
       "3           0         0          0          0  \n",
       "4           0         0          0          0  \n",
       "\n",
       "[5 rows x 5314 columns]"
      ]
     },
     "execution_count": 3,
     "metadata": {},
     "output_type": "execute_result"
    }
   ],
   "source": [
    "data.head(5)"
   ]
  },
  {
   "cell_type": "markdown",
   "id": "8c8fc8a6",
   "metadata": {},
   "source": [
    "# Attempt 1\n",
    "\n",
    "Try all features"
   ]
  },
  {
   "cell_type": "code",
   "execution_count": 4,
   "id": "bfd891c8",
   "metadata": {},
   "outputs": [],
   "source": [
    "# split split the outcome \n",
    "\n",
    "outcome = data['outcome']\n",
    "data = data.iloc[:,2:]"
   ]
  },
  {
   "cell_type": "code",
   "execution_count": 5,
   "id": "587fc773",
   "metadata": {},
   "outputs": [],
   "source": [
    "# Split into train and test(validation) groups\n",
    "X_train, X_test, y_train, y_test = train_test_split(data, outcome, test_size=.2)"
   ]
  },
  {
   "cell_type": "code",
   "execution_count": 6,
   "id": "dc4f846b",
   "metadata": {},
   "outputs": [
    {
     "name": "stderr",
     "output_type": "stream",
     "text": [
      "/Users/zac/opt/anaconda3/lib/python3.9/site-packages/xgboost/sklearn.py:1224: UserWarning: The use of label encoder in XGBClassifier is deprecated and will be removed in a future release. To remove this warning, do the following: 1) Pass option use_label_encoder=False when constructing XGBClassifier object; and 2) Encode your labels (y) as integers starting with 0, i.e. 0, 1, 2, ..., [num_class - 1].\n",
      "  warnings.warn(label_encoder_deprecation_msg, UserWarning)\n",
      "/Users/zac/opt/anaconda3/lib/python3.9/site-packages/xgboost/data.py:250: FutureWarning: pandas.Int64Index is deprecated and will be removed from pandas in a future version. Use pandas.Index with the appropriate dtype instead.\n",
      "  elif isinstance(data.columns, (pd.Int64Index, pd.RangeIndex)):\n"
     ]
    },
    {
     "name": "stdout",
     "output_type": "stream",
     "text": [
      "[15:25:13] WARNING: /var/folders/sy/f16zz6x50xz3113nwtb9bvq00000gp/T/abs_44tbtwf8c1/croots/recipe/xgboost-split_1659548960882/work/src/learner.cc:1115: Starting in XGBoost 1.3.0, the default evaluation metric used with the objective 'binary:logistic' was changed from 'error' to 'logloss'. Explicitly set eval_metric if you'd like to restore the old behavior.\n",
      "0.9455\n",
      "0.5346498867159263\n"
     ]
    }
   ],
   "source": [
    "hist = []\n",
    "roc = []\n",
    "for i in range(1):\n",
    "    model = XGBClassifier(n_estimators=50,max_depth=5)\n",
    "    #model = LogisticRegression(solver='lbfgs',max_iter = 10000)\n",
    "    model.fit(X_train, y_train)\n",
    "    preds = list(model.predict(X_test))\n",
    "    y_test = list(y_test)\n",
    "    w=0\n",
    "    for i in range(len(preds)):\n",
    "        if(preds[i]==y_test[i]):\n",
    "            w=w+1\n",
    "    hist.append(w/len(preds))\n",
    "    lr_probs = model.predict_proba(X_test)\n",
    "    # keep probabilities for the positive outcome only\n",
    "    lr_probs = lr_probs[:, 1]\n",
    "    lr_auc = roc_auc_score(y_test, lr_probs)\n",
    "    roc.append(lr_auc)\n",
    "\n",
    "\n",
    "\n",
    "print(sum(hist)/len(hist))\n",
    "print(sum(roc)/len(roc))"
   ]
  },
  {
   "cell_type": "markdown",
   "id": "ca5b7ca2",
   "metadata": {},
   "source": [
    "Good accuracy but because of the imbalanced data, but the roc auc score could possibly be improved"
   ]
  },
  {
   "cell_type": "markdown",
   "id": "318a5b99",
   "metadata": {},
   "source": [
    "# Attempt 2\n",
    "\n",
    "Lets try to reduce dimensions of the problem by selecting certain features"
   ]
  },
  {
   "cell_type": "code",
   "execution_count": 8,
   "id": "735bc8f2",
   "metadata": {},
   "outputs": [],
   "source": [
    "sel = VarianceThreshold(threshold=(.95*(1-.95)))\n",
    "var = sel.fit(X_train)\n",
    "\n",
    "var_xtrain = var.transform(X_train)\n",
    "var_xtest = var.transform(X_test)"
   ]
  },
  {
   "cell_type": "code",
   "execution_count": 9,
   "id": "1a7e5c03",
   "metadata": {},
   "outputs": [
    {
     "name": "stderr",
     "output_type": "stream",
     "text": [
      "/Users/zac/opt/anaconda3/lib/python3.9/site-packages/xgboost/sklearn.py:1224: UserWarning: The use of label encoder in XGBClassifier is deprecated and will be removed in a future release. To remove this warning, do the following: 1) Pass option use_label_encoder=False when constructing XGBClassifier object; and 2) Encode your labels (y) as integers starting with 0, i.e. 0, 1, 2, ..., [num_class - 1].\n",
      "  warnings.warn(label_encoder_deprecation_msg, UserWarning)\n"
     ]
    },
    {
     "name": "stdout",
     "output_type": "stream",
     "text": [
      "[15:26:33] WARNING: /var/folders/sy/f16zz6x50xz3113nwtb9bvq00000gp/T/abs_44tbtwf8c1/croots/recipe/xgboost-split_1659548960882/work/src/learner.cc:1115: Starting in XGBoost 1.3.0, the default evaluation metric used with the objective 'binary:logistic' was changed from 'error' to 'logloss'. Explicitly set eval_metric if you'd like to restore the old behavior.\n",
      "0.9455\n",
      "0.5367312086707193\n"
     ]
    }
   ],
   "source": [
    "hist = []\n",
    "roc = []\n",
    "for i in range(1):\n",
    "    model = XGBClassifier(n_estimators=50,max_depth=5)\n",
    "    #model = LogisticRegression(solver='lbfgs',max_iter = 10000)\n",
    "    model.fit(var_xtrain, y_train)\n",
    "    preds = list(model.predict(var_xtest))\n",
    "    y_test = list(y_test)\n",
    "    w=0\n",
    "    for i in range(len(preds)):\n",
    "        if(preds[i]==y_test[i]):\n",
    "            w=w+1\n",
    "    hist.append(w/len(preds))\n",
    "    lr_probs = model.predict_proba(var_xtest)\n",
    "    # keep probabilities for the positive outcome only\n",
    "    lr_probs = lr_probs[:, 1]\n",
    "    lr_auc = roc_auc_score(y_test, lr_probs)\n",
    "    roc.append(lr_auc)\n",
    "\n",
    "\n",
    "\n",
    "print(sum(hist)/len(hist))\n",
    "print(sum(roc)/len(roc))"
   ]
  },
  {
   "cell_type": "markdown",
   "id": "f4f7cb8d",
   "metadata": {},
   "source": [
    "That didn't do anything"
   ]
  },
  {
   "cell_type": "markdown",
   "id": "286f3c39",
   "metadata": {},
   "source": [
    "# Attempt 3"
   ]
  },
  {
   "cell_type": "markdown",
   "id": "3038e3da",
   "metadata": {},
   "source": [
    "Try under sampling data"
   ]
  },
  {
   "cell_type": "code",
   "execution_count": 15,
   "id": "70a92c8a",
   "metadata": {},
   "outputs": [],
   "source": [
    "under_sample_data = data.head(1000)\n",
    "under_sample_outcome = outcome[:1000]"
   ]
  },
  {
   "cell_type": "code",
   "execution_count": 16,
   "id": "6f491282",
   "metadata": {},
   "outputs": [],
   "source": [
    "# Split into train and test(validation) groups\n",
    "X_train, X_test, y_train, y_test = train_test_split(data, outcome, test_size=.2)"
   ]
  },
  {
   "cell_type": "code",
   "execution_count": 21,
   "id": "05531d37",
   "metadata": {},
   "outputs": [
    {
     "name": "stderr",
     "output_type": "stream",
     "text": [
      "/Users/zac/opt/anaconda3/lib/python3.9/site-packages/xgboost/sklearn.py:1224: UserWarning: The use of label encoder in XGBClassifier is deprecated and will be removed in a future release. To remove this warning, do the following: 1) Pass option use_label_encoder=False when constructing XGBClassifier object; and 2) Encode your labels (y) as integers starting with 0, i.e. 0, 1, 2, ..., [num_class - 1].\n",
      "  warnings.warn(label_encoder_deprecation_msg, UserWarning)\n",
      "/Users/zac/opt/anaconda3/lib/python3.9/site-packages/xgboost/data.py:250: FutureWarning: pandas.Int64Index is deprecated and will be removed from pandas in a future version. Use pandas.Index with the appropriate dtype instead.\n",
      "  elif isinstance(data.columns, (pd.Int64Index, pd.RangeIndex)):\n"
     ]
    },
    {
     "name": "stdout",
     "output_type": "stream",
     "text": [
      "[15:32:07] WARNING: /var/folders/sy/f16zz6x50xz3113nwtb9bvq00000gp/T/abs_44tbtwf8c1/croots/recipe/xgboost-split_1659548960882/work/src/learner.cc:1115: Starting in XGBoost 1.3.0, the default evaluation metric used with the objective 'binary:logistic' was changed from 'error' to 'logloss'. Explicitly set eval_metric if you'd like to restore the old behavior.\n",
      "0.9515\n",
      "0.5548537035933496\n"
     ]
    }
   ],
   "source": [
    "hist = []\n",
    "roc = []\n",
    "for i in range(1):\n",
    "    model = XGBClassifier(n_estimators=50,max_depth=5)\n",
    "    #model = LogisticRegression(solver='lbfgs',max_iter = 10000)\n",
    "    model.fit(X_train, y_train)\n",
    "    preds = list(model.predict(X_test))\n",
    "    y_test = list(y_test)\n",
    "    w=0\n",
    "    for i in range(len(preds)):\n",
    "        if(preds[i]==y_test[i]):\n",
    "            w=w+1\n",
    "    hist.append(w/len(preds))\n",
    "    lr_probs = model.predict_proba(X_test)\n",
    "    # keep probabilities for the positive outcome only\n",
    "    lr_probs = lr_probs[:, 1]\n",
    "    lr_auc = roc_auc_score(y_test, lr_probs)\n",
    "    roc.append(lr_auc)\n",
    "\n",
    "\n",
    "\n",
    "print(sum(hist)/len(hist))\n",
    "print(sum(roc)/len(roc))"
   ]
  },
  {
   "cell_type": "markdown",
   "id": "5b09b1d2",
   "metadata": {},
   "source": [
    "It's getting better"
   ]
  },
  {
   "cell_type": "markdown",
   "id": "39f32fcc",
   "metadata": {},
   "source": [
    "# Attempt 4"
   ]
  },
  {
   "cell_type": "code",
   "execution_count": 69,
   "id": "dccbe2f6",
   "metadata": {},
   "outputs": [],
   "source": [
    "under_sample_data = data\n",
    "under_sample_outcome = outcome"
   ]
  },
  {
   "cell_type": "code",
   "execution_count": 73,
   "id": "728717f4",
   "metadata": {},
   "outputs": [],
   "source": [
    "# Split into train and test(validation) groups\n",
    "X_train, X_test, y_train, y_test = train_test_split(data, outcome, test_size=.1)"
   ]
  },
  {
   "cell_type": "code",
   "execution_count": 74,
   "id": "08cb1e17",
   "metadata": {},
   "outputs": [
    {
     "name": "stderr",
     "output_type": "stream",
     "text": [
      "/Users/zac/opt/anaconda3/lib/python3.9/site-packages/xgboost/sklearn.py:1224: UserWarning: The use of label encoder in XGBClassifier is deprecated and will be removed in a future release. To remove this warning, do the following: 1) Pass option use_label_encoder=False when constructing XGBClassifier object; and 2) Encode your labels (y) as integers starting with 0, i.e. 0, 1, 2, ..., [num_class - 1].\n",
      "  warnings.warn(label_encoder_deprecation_msg, UserWarning)\n",
      "/Users/zac/opt/anaconda3/lib/python3.9/site-packages/xgboost/data.py:250: FutureWarning: pandas.Int64Index is deprecated and will be removed from pandas in a future version. Use pandas.Index with the appropriate dtype instead.\n",
      "  elif isinstance(data.columns, (pd.Int64Index, pd.RangeIndex)):\n"
     ]
    },
    {
     "name": "stdout",
     "output_type": "stream",
     "text": [
      "[17:42:59] WARNING: /var/folders/sy/f16zz6x50xz3113nwtb9bvq00000gp/T/abs_44tbtwf8c1/croots/recipe/xgboost-split_1659548960882/work/src/learner.cc:1115: Starting in XGBoost 1.3.0, the default evaluation metric used with the objective 'binary:logistic' was changed from 'error' to 'logloss'. Explicitly set eval_metric if you'd like to restore the old behavior.\n",
      "0.944\n",
      "0.5655077179176755\n"
     ]
    }
   ],
   "source": [
    "hist = []\n",
    "roc = []\n",
    "for i in range(1):\n",
    "    model = XGBClassifier(n_estimators=50,max_depth=5)\n",
    "    #model = LogisticRegression(solver='lbfgs',max_iter = 10000)\n",
    "    model.fit(X_train, y_train)\n",
    "    preds = list(model.predict(X_test))\n",
    "    y_test = list(y_test)\n",
    "    w=0\n",
    "    for i in range(len(preds)):\n",
    "        if(preds[i]==y_test[i]):\n",
    "            w=w+1\n",
    "    hist.append(w/len(preds))\n",
    "    lr_probs = model.predict_proba(X_test)\n",
    "    # keep probabilities for the positive outcome only\n",
    "    lr_probs = lr_probs[:, 1]\n",
    "    lr_auc = roc_auc_score(y_test, lr_probs)\n",
    "    roc.append(lr_auc)\n",
    "\n",
    "\n",
    "\n",
    "print(sum(hist)/len(hist))\n",
    "print(sum(roc)/len(roc))"
   ]
  },
  {
   "cell_type": "code",
   "execution_count": 75,
   "id": "f7e95a64",
   "metadata": {},
   "outputs": [
    {
     "data": {
      "text/plain": [
       "<AxesSubplot:title={'center':'Feature importance'}, xlabel='F score', ylabel='Features'>"
      ]
     },
     "execution_count": 75,
     "metadata": {},
     "output_type": "execute_result"
    },
    {
     "data": {
      "image/png": "[encoded data removed]",
      "text/plain": [
       "<Figure size 432x288 with 1 Axes>"
      ]
     },
     "metadata": {
      "needs_background": "light"
     },
     "output_type": "display_data"
    }
   ],
   "source": [
    "plot_importance(model,max_num_features=10)"
   ]
  },
  {
   "cell_type": "markdown",
   "id": "c80a52b0",
   "metadata": {},
   "source": [
    "# Important features\n",
    "\n",
    "['age_last_visit','age_Charlson_index','313217.0','439926.0','75617.0','4229909.0','317576.0','444369.0']\n",
    "\n",
    "\n",
    "In order to reduce dimensions and speed up training time we will only use these features to predict. We do not expect a good model, but it is taking way too long on my computer."
   ]
  },
  {
   "cell_type": "code",
   "execution_count": null,
   "id": "e16f9015",
   "metadata": {},
   "outputs": [],
   "source": []
  }
 ],
 "metadata": {
  "kernelspec": {
   "display_name": "Python 3 (ipykernel)",
   "language": "python",
   "name": "python3"
  },
  "language_info": {
   "codemirror_mode": {
    "name": "ipython",
    "version": 3
   },
   "file_extension": ".py",
   "mimetype": "text/x-python",
   "name": "python",
   "nbconvert_exporter": "python",
   "pygments_lexer": "ipython3",
   "version": "3.9.12"
  }
 },
 "nbformat": 4,
 "nbformat_minor": 5
}

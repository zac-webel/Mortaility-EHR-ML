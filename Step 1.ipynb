{
 "cells": [
  {
   "cell_type": "markdown",
   "id": "af3878b5",
   "metadata": {},
   "source": [
    "End to end machine learning workflow to predict mortality within 180 days of last visit\n",
    "\n",
    "\n",
    "This is step 1\n",
    "\n",
    "\n",
    "The goal is this file is to populate patient demographic features before we create a training set\n"
   ]
  },
  {
   "cell_type": "markdown",
   "id": "76a2dca0",
   "metadata": {},
   "source": [
    "# Importing Packages & Data"
   ]
  },
  {
   "cell_type": "code",
   "execution_count": 1,
   "id": "99d606de",
   "metadata": {},
   "outputs": [],
   "source": [
    "# Package Import\n",
    "\n",
    "import pandas as pd"
   ]
  },
  {
   "cell_type": "code",
   "execution_count": 16,
   "id": "e31bc041",
   "metadata": {},
   "outputs": [],
   "source": [
    "# import data\n",
    "\n",
    "person = pd.read_csv('input/person.csv')\n",
    "death = pd.read_csv('input/death.csv')"
   ]
  },
  {
   "cell_type": "markdown",
   "id": "7b6ba289",
   "metadata": {},
   "source": [
    "# Creating Demographics Table"
   ]
  },
  {
   "cell_type": "code",
   "execution_count": 17,
   "id": "c3c09ded",
   "metadata": {
    "scrolled": true
   },
   "outputs": [
    {
     "data": {
      "text/html": [
       "<div>\n",
       "<style scoped>\n",
       "    .dataframe tbody tr th:only-of-type {\n",
       "        vertical-align: middle;\n",
       "    }\n",
       "\n",
       "    .dataframe tbody tr th {\n",
       "        vertical-align: top;\n",
       "    }\n",
       "\n",
       "    .dataframe thead th {\n",
       "        text-align: right;\n",
       "    }\n",
       "</style>\n",
       "<table border=\"1\" class=\"dataframe\">\n",
       "  <thead>\n",
       "    <tr style=\"text-align: right;\">\n",
       "      <th></th>\n",
       "      <th>year_of_birth</th>\n",
       "      <th>gender_source_value</th>\n",
       "      <th>ethnicity_concept_id</th>\n",
       "      <th>provider_id</th>\n",
       "      <th>race_source_concept_id</th>\n",
       "      <th>person_id</th>\n",
       "      <th>person_source_value</th>\n",
       "      <th>month_of_birth</th>\n",
       "      <th>gender_source_concept_id</th>\n",
       "      <th>ethnicity_source_concept_id</th>\n",
       "      <th>care_site_id</th>\n",
       "      <th>day_of_birth</th>\n",
       "      <th>ethnicity_source_value</th>\n",
       "      <th>location_id</th>\n",
       "      <th>race_concept_id</th>\n",
       "      <th>gender_concept_id</th>\n",
       "      <th>birth_datetime</th>\n",
       "      <th>race_source_value</th>\n",
       "    </tr>\n",
       "  </thead>\n",
       "  <tbody>\n",
       "    <tr>\n",
       "      <th>0</th>\n",
       "      <td>1937.0</td>\n",
       "      <td>2</td>\n",
       "      <td>38003564.0</td>\n",
       "      <td>NaN</td>\n",
       "      <td>NaN</td>\n",
       "      <td>19076</td>\n",
       "      <td>3FE03A5F3E571720</td>\n",
       "      <td>8</td>\n",
       "      <td>NaN</td>\n",
       "      <td>NaN</td>\n",
       "      <td>NaN</td>\n",
       "      <td>1</td>\n",
       "      <td>1</td>\n",
       "      <td>404</td>\n",
       "      <td>8557.0</td>\n",
       "      <td>8532</td>\n",
       "      <td>NaN</td>\n",
       "      <td>1</td>\n",
       "    </tr>\n",
       "    <tr>\n",
       "      <th>1</th>\n",
       "      <td>1971.0</td>\n",
       "      <td>2</td>\n",
       "      <td>38003564.0</td>\n",
       "      <td>NaN</td>\n",
       "      <td>NaN</td>\n",
       "      <td>63615</td>\n",
       "      <td>D6EA175DFA84014F</td>\n",
       "      <td>12</td>\n",
       "      <td>NaN</td>\n",
       "      <td>NaN</td>\n",
       "      <td>NaN</td>\n",
       "      <td>1</td>\n",
       "      <td>1</td>\n",
       "      <td>59</td>\n",
       "      <td>NaN</td>\n",
       "      <td>8532</td>\n",
       "      <td>NaN</td>\n",
       "      <td>1</td>\n",
       "    </tr>\n",
       "    <tr>\n",
       "      <th>2</th>\n",
       "      <td>1935.0</td>\n",
       "      <td>2</td>\n",
       "      <td>38003564.0</td>\n",
       "      <td>NaN</td>\n",
       "      <td>NaN</td>\n",
       "      <td>138812</td>\n",
       "      <td>D49E41F7F3EC3403</td>\n",
       "      <td>9</td>\n",
       "      <td>NaN</td>\n",
       "      <td>NaN</td>\n",
       "      <td>NaN</td>\n",
       "      <td>1</td>\n",
       "      <td>1</td>\n",
       "      <td>464</td>\n",
       "      <td>8516.0</td>\n",
       "      <td>8532</td>\n",
       "      <td>NaN</td>\n",
       "      <td>1</td>\n",
       "    </tr>\n",
       "    <tr>\n",
       "      <th>3</th>\n",
       "      <td>1943.0</td>\n",
       "      <td>1</td>\n",
       "      <td>38003564.0</td>\n",
       "      <td>NaN</td>\n",
       "      <td>NaN</td>\n",
       "      <td>24089</td>\n",
       "      <td>50B972E03C6FDBAE</td>\n",
       "      <td>12</td>\n",
       "      <td>NaN</td>\n",
       "      <td>NaN</td>\n",
       "      <td>NaN</td>\n",
       "      <td>1</td>\n",
       "      <td>1</td>\n",
       "      <td>345</td>\n",
       "      <td>8515.0</td>\n",
       "      <td>8507</td>\n",
       "      <td>NaN</td>\n",
       "      <td>1</td>\n",
       "    </tr>\n",
       "    <tr>\n",
       "      <th>4</th>\n",
       "      <td>1933.0</td>\n",
       "      <td>2</td>\n",
       "      <td>38003564.0</td>\n",
       "      <td>NaN</td>\n",
       "      <td>NaN</td>\n",
       "      <td>21093</td>\n",
       "      <td>46A9A1FFC0CCBF8D</td>\n",
       "      <td>7</td>\n",
       "      <td>NaN</td>\n",
       "      <td>NaN</td>\n",
       "      <td>NaN</td>\n",
       "      <td>1</td>\n",
       "      <td>1</td>\n",
       "      <td>363</td>\n",
       "      <td>NaN</td>\n",
       "      <td>8532</td>\n",
       "      <td>NaN</td>\n",
       "      <td>1</td>\n",
       "    </tr>\n",
       "  </tbody>\n",
       "</table>\n",
       "</div>"
      ],
      "text/plain": [
       "   year_of_birth  gender_source_value  ethnicity_concept_id  provider_id  \\\n",
       "0         1937.0                    2            38003564.0          NaN   \n",
       "1         1971.0                    2            38003564.0          NaN   \n",
       "2         1935.0                    2            38003564.0          NaN   \n",
       "3         1943.0                    1            38003564.0          NaN   \n",
       "4         1933.0                    2            38003564.0          NaN   \n",
       "\n",
       "   race_source_concept_id  person_id person_source_value  month_of_birth  \\\n",
       "0                     NaN      19076    3FE03A5F3E571720               8   \n",
       "1                     NaN      63615    D6EA175DFA84014F              12   \n",
       "2                     NaN     138812    D49E41F7F3EC3403               9   \n",
       "3                     NaN      24089    50B972E03C6FDBAE              12   \n",
       "4                     NaN      21093    46A9A1FFC0CCBF8D               7   \n",
       "\n",
       "   gender_source_concept_id  ethnicity_source_concept_id  care_site_id  \\\n",
       "0                       NaN                          NaN           NaN   \n",
       "1                       NaN                          NaN           NaN   \n",
       "2                       NaN                          NaN           NaN   \n",
       "3                       NaN                          NaN           NaN   \n",
       "4                       NaN                          NaN           NaN   \n",
       "\n",
       "   day_of_birth  ethnicity_source_value  location_id  race_concept_id  \\\n",
       "0             1                       1          404           8557.0   \n",
       "1             1                       1           59              NaN   \n",
       "2             1                       1          464           8516.0   \n",
       "3             1                       1          345           8515.0   \n",
       "4             1                       1          363              NaN   \n",
       "\n",
       "   gender_concept_id birth_datetime  race_source_value  \n",
       "0               8532            NaN                  1  \n",
       "1               8532            NaN                  1  \n",
       "2               8532            NaN                  1  \n",
       "3               8507            NaN                  1  \n",
       "4               8532            NaN                  1  "
      ]
     },
     "execution_count": 17,
     "metadata": {},
     "output_type": "execute_result"
    }
   ],
   "source": [
    "# Preview person table\n",
    "\n",
    "person.head()"
   ]
  },
  {
   "cell_type": "code",
   "execution_count": 18,
   "id": "75c19301",
   "metadata": {},
   "outputs": [],
   "source": [
    "# selecting the person_id yob gender and ethnicity as possible features \n",
    "# reset index \n",
    "\n",
    "person = person[['person_id','year_of_birth','gender_source_value','ethnicity_source_value']]\n",
    "person = person.reset_index(drop=True)"
   ]
  },
  {
   "cell_type": "code",
   "execution_count": 19,
   "id": "1e6827d1",
   "metadata": {},
   "outputs": [
    {
     "data": {
      "text/html": [
       "<div>\n",
       "<style scoped>\n",
       "    .dataframe tbody tr th:only-of-type {\n",
       "        vertical-align: middle;\n",
       "    }\n",
       "\n",
       "    .dataframe tbody tr th {\n",
       "        vertical-align: top;\n",
       "    }\n",
       "\n",
       "    .dataframe thead th {\n",
       "        text-align: right;\n",
       "    }\n",
       "</style>\n",
       "<table border=\"1\" class=\"dataframe\">\n",
       "  <thead>\n",
       "    <tr style=\"text-align: right;\">\n",
       "      <th></th>\n",
       "      <th>person_id</th>\n",
       "      <th>year_of_birth</th>\n",
       "      <th>gender_source_value</th>\n",
       "      <th>ethnicity_source_value</th>\n",
       "    </tr>\n",
       "  </thead>\n",
       "  <tbody>\n",
       "    <tr>\n",
       "      <th>0</th>\n",
       "      <td>19076</td>\n",
       "      <td>1937.0</td>\n",
       "      <td>2</td>\n",
       "      <td>1</td>\n",
       "    </tr>\n",
       "    <tr>\n",
       "      <th>1</th>\n",
       "      <td>63615</td>\n",
       "      <td>1971.0</td>\n",
       "      <td>2</td>\n",
       "      <td>1</td>\n",
       "    </tr>\n",
       "    <tr>\n",
       "      <th>2</th>\n",
       "      <td>138812</td>\n",
       "      <td>1935.0</td>\n",
       "      <td>2</td>\n",
       "      <td>1</td>\n",
       "    </tr>\n",
       "    <tr>\n",
       "      <th>3</th>\n",
       "      <td>24089</td>\n",
       "      <td>1943.0</td>\n",
       "      <td>1</td>\n",
       "      <td>1</td>\n",
       "    </tr>\n",
       "    <tr>\n",
       "      <th>4</th>\n",
       "      <td>21093</td>\n",
       "      <td>1933.0</td>\n",
       "      <td>2</td>\n",
       "      <td>1</td>\n",
       "    </tr>\n",
       "  </tbody>\n",
       "</table>\n",
       "</div>"
      ],
      "text/plain": [
       "   person_id  year_of_birth  gender_source_value  ethnicity_source_value\n",
       "0      19076         1937.0                    2                       1\n",
       "1      63615         1971.0                    2                       1\n",
       "2     138812         1935.0                    2                       1\n",
       "3      24089         1943.0                    1                       1\n",
       "4      21093         1933.0                    2                       1"
      ]
     },
     "execution_count": 19,
     "metadata": {},
     "output_type": "execute_result"
    }
   ],
   "source": [
    "# preview person table with selected features\n",
    "\n",
    "person.head()"
   ]
  },
  {
   "cell_type": "code",
   "execution_count": 20,
   "id": "509a30bf",
   "metadata": {},
   "outputs": [
    {
     "data": {
      "text/html": [
       "<div>\n",
       "<style scoped>\n",
       "    .dataframe tbody tr th:only-of-type {\n",
       "        vertical-align: middle;\n",
       "    }\n",
       "\n",
       "    .dataframe tbody tr th {\n",
       "        vertical-align: top;\n",
       "    }\n",
       "\n",
       "    .dataframe thead th {\n",
       "        text-align: right;\n",
       "    }\n",
       "</style>\n",
       "<table border=\"1\" class=\"dataframe\">\n",
       "  <thead>\n",
       "    <tr style=\"text-align: right;\">\n",
       "      <th></th>\n",
       "      <th>person_id</th>\n",
       "      <th>death_date</th>\n",
       "      <th>death_datetime</th>\n",
       "      <th>death_type_concept_id</th>\n",
       "      <th>cause_concept_id</th>\n",
       "      <th>cause_source_value</th>\n",
       "      <th>cause_source_concept_id</th>\n",
       "    </tr>\n",
       "  </thead>\n",
       "  <tbody>\n",
       "    <tr>\n",
       "      <th>0</th>\n",
       "      <td>144964</td>\n",
       "      <td>2010-11-18</td>\n",
       "      <td>2010-11-18 16:13:45</td>\n",
       "      <td>38003565</td>\n",
       "      <td>NaN</td>\n",
       "      <td>NaN</td>\n",
       "      <td>NaN</td>\n",
       "    </tr>\n",
       "    <tr>\n",
       "      <th>1</th>\n",
       "      <td>47287</td>\n",
       "      <td>2010-01-16</td>\n",
       "      <td>2010-01-16 22:25:49</td>\n",
       "      <td>38003565</td>\n",
       "      <td>NaN</td>\n",
       "      <td>NaN</td>\n",
       "      <td>NaN</td>\n",
       "    </tr>\n",
       "    <tr>\n",
       "      <th>2</th>\n",
       "      <td>128284</td>\n",
       "      <td>2010-12-28</td>\n",
       "      <td>2010-12-28 06:47:01</td>\n",
       "      <td>38003565</td>\n",
       "      <td>NaN</td>\n",
       "      <td>NaN</td>\n",
       "      <td>NaN</td>\n",
       "    </tr>\n",
       "    <tr>\n",
       "      <th>3</th>\n",
       "      <td>47064</td>\n",
       "      <td>2010-04-19</td>\n",
       "      <td>2010-04-19 20:37:36</td>\n",
       "      <td>38003565</td>\n",
       "      <td>NaN</td>\n",
       "      <td>NaN</td>\n",
       "      <td>NaN</td>\n",
       "    </tr>\n",
       "    <tr>\n",
       "      <th>4</th>\n",
       "      <td>42217</td>\n",
       "      <td>2009-10-08</td>\n",
       "      <td>2009-10-08 00:52:17</td>\n",
       "      <td>38003565</td>\n",
       "      <td>NaN</td>\n",
       "      <td>NaN</td>\n",
       "      <td>NaN</td>\n",
       "    </tr>\n",
       "  </tbody>\n",
       "</table>\n",
       "</div>"
      ],
      "text/plain": [
       "   person_id  death_date       death_datetime  death_type_concept_id  \\\n",
       "0     144964  2010-11-18  2010-11-18 16:13:45               38003565   \n",
       "1      47287  2010-01-16  2010-01-16 22:25:49               38003565   \n",
       "2     128284  2010-12-28  2010-12-28 06:47:01               38003565   \n",
       "3      47064  2010-04-19  2010-04-19 20:37:36               38003565   \n",
       "4      42217  2009-10-08  2009-10-08 00:52:17               38003565   \n",
       "\n",
       "   cause_concept_id  cause_source_value  cause_source_concept_id  \n",
       "0               NaN                 NaN                      NaN  \n",
       "1               NaN                 NaN                      NaN  \n",
       "2               NaN                 NaN                      NaN  \n",
       "3               NaN                 NaN                      NaN  \n",
       "4               NaN                 NaN                      NaN  "
      ]
     },
     "execution_count": 20,
     "metadata": {},
     "output_type": "execute_result"
    }
   ],
   "source": [
    "# preview death table\n",
    "\n",
    "death.head()"
   ]
  },
  {
   "cell_type": "code",
   "execution_count": 21,
   "id": "1caa0f90",
   "metadata": {},
   "outputs": [],
   "source": [
    "# select person_id and death_datetime as the features we need \n",
    "# reset index\n",
    "\n",
    "death = death[['person_id','death_datetime']]\n",
    "death = death.reset_index(drop=True)"
   ]
  },
  {
   "cell_type": "code",
   "execution_count": 22,
   "id": "e6d76cb6",
   "metadata": {},
   "outputs": [
    {
     "data": {
      "text/html": [
       "<div>\n",
       "<style scoped>\n",
       "    .dataframe tbody tr th:only-of-type {\n",
       "        vertical-align: middle;\n",
       "    }\n",
       "\n",
       "    .dataframe tbody tr th {\n",
       "        vertical-align: top;\n",
       "    }\n",
       "\n",
       "    .dataframe thead th {\n",
       "        text-align: right;\n",
       "    }\n",
       "</style>\n",
       "<table border=\"1\" class=\"dataframe\">\n",
       "  <thead>\n",
       "    <tr style=\"text-align: right;\">\n",
       "      <th></th>\n",
       "      <th>person_id</th>\n",
       "      <th>death_datetime</th>\n",
       "    </tr>\n",
       "  </thead>\n",
       "  <tbody>\n",
       "    <tr>\n",
       "      <th>0</th>\n",
       "      <td>144964</td>\n",
       "      <td>2010-11-18 16:13:45</td>\n",
       "    </tr>\n",
       "    <tr>\n",
       "      <th>1</th>\n",
       "      <td>47287</td>\n",
       "      <td>2010-01-16 22:25:49</td>\n",
       "    </tr>\n",
       "    <tr>\n",
       "      <th>2</th>\n",
       "      <td>128284</td>\n",
       "      <td>2010-12-28 06:47:01</td>\n",
       "    </tr>\n",
       "    <tr>\n",
       "      <th>3</th>\n",
       "      <td>47064</td>\n",
       "      <td>2010-04-19 20:37:36</td>\n",
       "    </tr>\n",
       "    <tr>\n",
       "      <th>4</th>\n",
       "      <td>42217</td>\n",
       "      <td>2009-10-08 00:52:17</td>\n",
       "    </tr>\n",
       "  </tbody>\n",
       "</table>\n",
       "</div>"
      ],
      "text/plain": [
       "   person_id       death_datetime\n",
       "0     144964  2010-11-18 16:13:45\n",
       "1      47287  2010-01-16 22:25:49\n",
       "2     128284  2010-12-28 06:47:01\n",
       "3      47064  2010-04-19 20:37:36\n",
       "4      42217  2009-10-08 00:52:17"
      ]
     },
     "execution_count": 22,
     "metadata": {},
     "output_type": "execute_result"
    }
   ],
   "source": [
    "# preview death table with selected features\n",
    "\n",
    "death.head()"
   ]
  },
  {
   "cell_type": "code",
   "execution_count": 23,
   "id": "3f2b85be",
   "metadata": {},
   "outputs": [],
   "source": [
    "# We create a merged table left joining person and death on person_id\n",
    "# reset index\n",
    "\n",
    "demographics = person.merge(death,how='left',on='person_id')\n",
    "demographics = demographics.reset_index(drop=True)"
   ]
  },
  {
   "cell_type": "markdown",
   "id": "79798303",
   "metadata": {},
   "source": [
    "# Exploratory Data Analysis"
   ]
  },
  {
   "cell_type": "code",
   "execution_count": 24,
   "id": "f89d47c7",
   "metadata": {},
   "outputs": [
    {
     "data": {
      "text/plain": [
       "76"
      ]
     },
     "execution_count": 24,
     "metadata": {},
     "output_type": "execute_result"
    }
   ],
   "source": [
    "# Exploratory analysis\n",
    "# we check how many patients have NA values for year_of_birth\n",
    "\n",
    "len(demographics.loc[pd.isna(demographics.year_of_birth)])"
   ]
  },
  {
   "cell_type": "code",
   "execution_count": 26,
   "id": "0f5faa28",
   "metadata": {},
   "outputs": [
    {
     "data": {
      "text/plain": [
       "96822"
      ]
     },
     "execution_count": 26,
     "metadata": {},
     "output_type": "execute_result"
    }
   ],
   "source": [
    "# Exploratory analysis\n",
    "# we check how many patients have NA values for death_date \n",
    "# Assumption: They are alive)\n",
    "\n",
    "len(demographics.loc[pd.isna(demographics.death_datetime)])"
   ]
  },
  {
   "cell_type": "code",
   "execution_count": 28,
   "id": "dd454116",
   "metadata": {},
   "outputs": [
    {
     "data": {
      "text/plain": [
       "1096"
      ]
     },
     "execution_count": 28,
     "metadata": {},
     "output_type": "execute_result"
    }
   ],
   "source": [
    "# Exploratory analysis\n",
    "# we check how many patients have died\n",
    "\n",
    "len(demographics.loc[pd.notna(demographics.death_datetime)])"
   ]
  },
  {
   "cell_type": "markdown",
   "id": "70261607",
   "metadata": {},
   "source": [
    "# Data Cleaning"
   ]
  },
  {
   "cell_type": "code",
   "execution_count": 29,
   "id": "67672741",
   "metadata": {},
   "outputs": [],
   "source": [
    "# We will not include any patient who has a missing birth date \n",
    "# reset index\n",
    "\n",
    "demographics = demographics.loc[pd.notna(demographics.year_of_birth)]\n",
    "demographics = demographics.reset_index(drop=True)"
   ]
  },
  {
   "cell_type": "markdown",
   "id": "af7bea59",
   "metadata": {},
   "source": [
    "# Export "
   ]
  },
  {
   "cell_type": "code",
   "execution_count": 31,
   "id": "9fd946a4",
   "metadata": {},
   "outputs": [],
   "source": [
    "demographics.to_csv('output/step_1_demographics.csv',index=False)"
   ]
  }
 ],
 "metadata": {
  "kernelspec": {
   "display_name": "Python 3 (ipykernel)",
   "language": "python",
   "name": "python3"
  },
  "language_info": {
   "codemirror_mode": {
    "name": "ipython",
    "version": 3
   },
   "file_extension": ".py",
   "mimetype": "text/x-python",
   "name": "python",
   "nbconvert_exporter": "python",
   "pygments_lexer": "ipython3",
   "version": "3.9.12"
  }
 },
 "nbformat": 4,
 "nbformat_minor": 5
}
